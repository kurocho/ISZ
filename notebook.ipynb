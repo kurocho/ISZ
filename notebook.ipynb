{
 "cells": [
  {
   "cell_type": "markdown",
   "metadata": {},
   "source": [
    "# Project 5 Investment cycles\n",
    "### Authors Piotr Snopek Jakub Caputa"
   ]
  },
  {
   "cell_type": "markdown",
   "metadata": {},
   "source": [
    "Y - national income\n",
    "R - interest"
   ]
  },
  {
   "cell_type": "code",
   "execution_count": 1,
   "metadata": {
    "ExecuteTime": {
     "end_time": "2021-11-23T08:33:34.297083Z",
     "start_time": "2021-11-23T08:33:33.860738Z"
    }
   },
   "outputs": [],
   "source": [
    "from scipy.integrate import odeint"
   ]
  },
  {
   "cell_type": "code",
   "execution_count": 2,
   "metadata": {
    "ExecuteTime": {
     "end_time": "2021-11-23T08:33:34.951257Z",
     "start_time": "2021-11-23T08:33:34.298327Z"
    }
   },
   "outputs": [],
   "source": [
    "%matplotlib inline\n",
    "\n",
    "import glob\n",
    "import numpy as np\n",
    "import pandas as pd\n",
    "import matplotlib.pyplot as plt\n",
    "import math\n",
    "plt.style.use('seaborn-white')\n",
    "plt.rcParams['figure.dpi'] = 100"
   ]
  },
  {
   "cell_type": "code",
   "execution_count": 3,
   "metadata": {
    "ExecuteTime": {
     "end_time": "2021-11-23T08:33:35.013857Z",
     "start_time": "2021-11-23T08:33:34.954393Z"
    }
   },
   "outputs": [],
   "source": [
    "from IPython.display import HTML\n",
    "from ipywidgets.widgets import interact, IntSlider, FloatSlider, Layout\n",
    "\n",
    "%matplotlib inline\n",
    "\n",
    "style = {'description_width': '150px'}\n",
    "slider_layout = Layout(width='99%')"
   ]
  },
  {
   "cell_type": "markdown",
   "metadata": {},
   "source": [
    "# Keyness model"
   ]
  },
  {
   "cell_type": "code",
   "execution_count": 4,
   "metadata": {
    "ExecuteTime": {
     "end_time": "2021-11-23T08:33:35.400171Z",
     "start_time": "2021-11-23T08:33:35.014891Z"
    }
   },
   "outputs": [
    {
     "data": {
      "application/vnd.jupyter.widget-view+json": {
       "model_id": "91352c98acf945d1b537cc975dbfa7df",
       "version_major": 2,
       "version_minor": 0
      },
      "text/plain": [
       "interactive(children=(FloatSlider(value=0.005, description='l0', layout=Layout(width='99%'), max=0.1, step=0.0…"
      ]
     },
     "metadata": {},
     "output_type": "display_data"
    }
   ],
   "source": [
    "def main(l0, l1, l2, l_s, alfa, beta1, beta2, beta3, beta, K, a1): \n",
    "    def I(y, r):\n",
    "          return (l0 * K) / (l0 + (K - l0) * math.exp(-a1 * y))\n",
    "\n",
    "    def S(y, r):\n",
    "      return l1 * y + beta2 * r\n",
    "\n",
    "    def L(y, r):\n",
    "      return l2 * y - beta3 * r\n",
    "\n",
    "    def f1(y, r):\n",
    "      return I(y, r) - l1 * y - r * y * (beta1 + beta2)\n",
    "\n",
    "    def f2(y, r):\n",
    "      return r * (l2 * y - r * beta3 - l_s)\n",
    "\n",
    "    def keynesian_model(params, t):\n",
    "      y = params[0]\n",
    "      r = params[1]\n",
    "      dydt = f1(y, r) * alfa\n",
    "      drdt = f2(y, r) * beta\n",
    "\n",
    "      return [dydt, drdt]\n",
    "    \n",
    "    \n",
    "    # initial condition\n",
    "    params = [1.0, 0.1]\n",
    "\n",
    "    # number of time points\n",
    "    end = 1000\n",
    "\n",
    "    # time points\n",
    "    t = np.linspace(0, 100, end)\n",
    "\n",
    "    # store solution\n",
    "    y = np.empty_like(t)\n",
    "    r = np.empty_like(t)\n",
    "    Idt = np.empty_like(t)\n",
    "    Sdt = np.empty_like(t)\n",
    "    Ldt = np.empty_like(t)\n",
    "    Mdt = np.empty_like(t)\n",
    "\n",
    "    # record initial conditions\n",
    "    y[0] = params[0]\n",
    "    r[0] = params[1]\n",
    "    Idt[0] = I(y[0], r[0])\n",
    "    Sdt[0] = S(y[0], r[0])\n",
    "    Ldt[0] = L(y[0], r[0])\n",
    "    Mdt[0] = L(y[0], r[0]) - f2(y[0], r[0])\n",
    "\n",
    "    # solve ODE\n",
    "    for i in range(1, end):\n",
    "        # span for next time step\n",
    "        tspan = [t[i-1],t[i]]\n",
    "        # solve for next step\n",
    "        z = odeint(keynesian_model, params, tspan)\n",
    "        # store solution for plotting\n",
    "        y[i] = z[1][0]\n",
    "        r[i] = z[1][1]\n",
    "        Idt[i] = I(y[i], r[i])\n",
    "        Sdt[i] = S(y[i], r[i])\n",
    "        Ldt[i] = L(y[i], r[i])\n",
    "        Mdt[i] = Ldt[i] - f2(y[i], r[i])\n",
    "        # next initial condition\n",
    "        params = z[1]\n",
    "    \n",
    "    T = 1000\n",
    "    time = np.linspace(0, T, T)\n",
    "\n",
    "    fig, ax = plt.subplots(figsize=(15, 10))\n",
    "\n",
    "# uncomment this lines if you want to add additional information about the model    \n",
    "    ax.plot(t, Idt, 'b-', label='I(t)')\n",
    "    ax.plot(t, Sdt, 'r-', label='S(t)')\n",
    "    ax.plot(t, Ldt, 'g-', label='L(t)')\n",
    "    ax.plot(t, Mdt, 'y--', label='M(t)')\n",
    "    ax.legend(loc='best', prop={'size': 15})\n",
    "    plt.show()\n",
    "\n",
    "interact(main, alfa=FloatSlider(min=0, max=10, step=0.01, value=2, description='alfa', style=style, layout=slider_layout),\n",
    "               beta=FloatSlider(min=0, max=10, step=0.01, value=7, description='beta', style=style, layout=slider_layout),\n",
    "               l0=FloatSlider(min=0, max=0.1, step=0.001, value=0.005, description='l0', style=style, layout=slider_layout),\n",
    "               l1=FloatSlider(min=0, max=3, step=0.01, value=0.0, description='l1', style=style, layout=slider_layout),\n",
    "               l2=FloatSlider(min=0, max=3, step=0.01, value=0.35, description='l2', style=style, layout=slider_layout),\n",
    "               l_s=FloatSlider(min=0, max=1.5, step=0.01, value=0.2, description='l_s', style=style, layout=slider_layout),\n",
    "               beta1=FloatSlider(min=0, max=2, step=0.01, value=1.6, description='beta1', style=style, layout=slider_layout),\n",
    "               beta2=FloatSlider(min=0, max=1.5, step=0.01, value=0.4, description='beta2', style=style, layout=slider_layout),\n",
    "               beta3=FloatSlider(min=0, max=1.5, step=0.01, value=1, description='beta3', style=style, layout=slider_layout),\n",
    "               K=FloatSlider(min=0, max=10, step=0.01, value=1, description='K', style=style, layout=slider_layout),\n",
    "               a1=FloatSlider(min=0, max=6, step=0.01, value=4, description='a1', style=style, layout=slider_layout)\n",
    "         \n",
    "        );"
   ]
  },
  {
   "cell_type": "markdown",
   "metadata": {},
   "source": [
    "# Model 9d"
   ]
  },
  {
   "cell_type": "code",
   "execution_count": 6,
   "metadata": {
    "ExecuteTime": {
     "end_time": "2021-11-23T08:47:51.101364Z",
     "start_time": "2021-11-23T08:47:49.759330Z"
    },
    "code_folding": [],
    "scrolled": false
   },
   "outputs": [
    {
     "data": {
      "application/vnd.jupyter.widget-view+json": {
       "model_id": "dde0ab99611146da97218929194e9ad6",
       "version_major": 2,
       "version_minor": 0
      },
      "text/plain": [
       "interactive(children=(FloatSlider(value=95.0, description='Q1', layout=Layout(width='99%'), step=0.5, style=Sl…"
      ]
     },
     "metadata": {},
     "output_type": "display_data"
    }
   ],
   "source": [
    "T = 350\n",
    "t = np.linspace(0, T, T)\n",
    "\n",
    "F = np.empty_like(t)\n",
    "H = np.empty_like(t)\n",
    "K = np.empty_like(t)\n",
    "L = np.empty_like(t)\n",
    "M = np.empty_like(t)\n",
    "p = np.empty_like(t)\n",
    "w = np.empty_like(t)\n",
    "G_INV = np.empty_like(t)\n",
    "r = np.empty_like(t)\n",
    "\n",
    "C = np.empty_like(t)\n",
    "S = np.empty_like(t)\n",
    "I = np.empty_like(t)\n",
    "Div = np.empty_like(t)\n",
    "\n",
    "def main(Q1, Q2, Q3, ALPHA_R,ALPHA_P,ALPHA_M,ALPHA_F,ALPHA_INV,T_WAGE,T_EMPL,A,LAMBDA,Y_SAVE,T_DEP,G_MAX,L_MAX): \n",
    "    def Model(params,t):\n",
    "        F, M, H, K, L, p, w, G_INV, r = params\n",
    "        if L_MAX < L:\n",
    "            L_MAX_NEW = L\n",
    "        else:\n",
    "            L_MAX_NEW = L_MAX\n",
    "    \n",
    "        C = (1 - Y_SAVE * (1 + r)) * (1/p) * ALPHA_M * M # ok\n",
    "        I = G_INV * (1/p) * ALPHA_F * F # ok\n",
    "        D = C + I # ok\n",
    "        Y = A * math.pow(L, LAMBDA) * math.pow(K, 1 - LAMBDA)\n",
    "        Ld = (8 * math.pow(p, 3) * K * math.pow(A, 3))/(27 * math.pow(w, 3)) # ok\n",
    "        Le = min(L_MAX_NEW, Ld)\n",
    "        S = Y_SAVE * (1 + r) * ALPHA_M * M\n",
    "        PI = p * D - w * L\n",
    "        Div = ALPHA_F * F - p * I\n",
    "        PIn = PI - (1 / T_DEP) * p * K\n",
    "\n",
    "        # to jest ok\n",
    "        dFdt = PI + S - Div - (p * I)\n",
    "        dHdt = Y - D\n",
    "        dKdt = (-1/T_DEP) * K  + I\n",
    "        dLdt = (-1/T_EMPL) * (L - Le)\n",
    "        dMdt = ((w * L) + Div) - ((p * C) + S)\n",
    "        dpdt =  -1 * ((p * ALPHA_P * H)/D)\n",
    "\n",
    "        dwdt = (w/T_WAGE) * (Ld - L)\n",
    "\n",
    "        if PIn/(p * K) >= r:\n",
    "            dG_INVdt = ALPHA_INV * (G_MAX - G_INV) * ( ( PIn/(p * K) ) - r)\n",
    "        else:\n",
    "            dG_INVdt = ALPHA_INV * G_INV * ( ( PIn/(p * K) ) - r)\n",
    "\n",
    "        drdt = ALPHA_R * r * (((w * L) + Div) - ((p * C ) + S))\n",
    "\n",
    "        return dFdt, dMdt, dHdt, dKdt, dLdt , dpdt, dwdt, dG_INVdt, drdt\n",
    "    \n",
    "    # Starting Params\n",
    "        \n",
    "\n",
    "    F[0], M[0], H[0], K[0], L[0], p[0], w[0], G_INV[0], r[0] = \\\n",
    "                            37, 58, 0, 43.5, 163.6, 1.56, 0.19, 0.46, 0.025\n",
    "    \n",
    "    params = [F[0],M[0],H[0],K[0],L[0],p[0], w[0], G_INV[0],r[0]]\n",
    "\n",
    "    \n",
    "    C[0] = (1 - Y_SAVE * (1 + r[0])) * (1/p[0]) * ALPHA_M * M[0]\n",
    "    S[0] = Y_SAVE * (1 + r[0]) * ALPHA_M * M[0]\n",
    "    I[0] = G_INV[0] * (1/p[0]) * ALPHA_F * F[0]\n",
    "    Div[0] = ALPHA_F * F[0] - p[0] * I[0]\n",
    "    \n",
    "    for i in range(1, T):\n",
    "        tspan = [t[i-1],t[i]]\n",
    "        result = odeint(Model, params, tspan)\n",
    "        F[i], M[i], H[i], K[i], L[i] , p[i], w[i], G_INV[i], r[i] = result[1]\n",
    "        \n",
    "        C[i] = ((1 - Y_SAVE * (1 + r[i])) * (1/p[i]) * ALPHA_M * M[i])\n",
    "        S[i] = (Y_SAVE * (1 + r[i]) * ALPHA_M * M[i])\n",
    "        I[i] = (G_INV[i] * (1/p[i]) * ALPHA_F * F[i])\n",
    "        Div[i] = (ALPHA_F * F[i] - p[i] * I[i])\n",
    "\n",
    "        params = result[1]\n",
    "        \n",
    "    \n",
    "    fig, ax = plt.subplots(figsize=(15, 9))\n",
    "\n",
    "    ax.plot(t, F, label='F(t) Liquid assets of banks and firms ')\n",
    "    ax.plot(t, M, label='M(t) Money holdings of consumers ')\n",
    "    ax.plot(t, K, label='K(t) Capital')\n",
    "    ax.plot(t, L, label='L(t) Number of employed')\n",
    "    ax.plot(t, H, label='H(t) Commodity inventories') # zapasy towarów\n",
    "    ax.plot(t, w*100, label='w(t) Mean wage') \n",
    "    ax.legend(loc='best', prop={'size': 15})\n",
    "    ax.grid()\n",
    "    plt.show()\n",
    "    \n",
    "    print('Investments are inversely related to interest.  They increase when interest is low, national income and savings  accordingly  grow,  and  interest  starts  decreasing  to  stimulate  the  transition  from    S    to   I.    Higher  interest  puts a brake on investment activity, which in turn leads to reduction of national income.  If the interest is set too high, money holders will purchase securities.  This leads to an increase in the demand for bonds and their prices rise.  When money supply exceeds the demand for money, the interest decreases.')\n",
    "\n",
    "    fig, ax = plt.subplots(figsize=(15, 9))\n",
    "    ax.plot(t, G_INV, label='Ginv(t) Investment level')\n",
    "    ax.plot(t, r, label='r(t) Interest')\n",
    "    ax.plot(t, p, label='p(t) Price level')\n",
    "    ax.legend(loc='best', prop={'size': 15})\n",
    "    ax.grid()\n",
    "    plt.show()\n",
    "    \n",
    "    fig, ax = plt.subplots(figsize=(15, 9))\n",
    "    ax.plot(t, C, label='C(t) Consumption')\n",
    "    ax.plot(t, S, label='S(t) Savings')\n",
    "    ax.plot(t, I, label='I(t) Investments')\n",
    "    ax.plot(t, Div, label='Div(t) Dividends')\n",
    "    ax.legend(loc='best', prop={'size': 15})\n",
    "    ax.grid()\n",
    "    plt.show()\n",
    "\n",
    "\n",
    "interact(main, Q1=FloatSlider(min=0, max=100, step=0.5, value=95, description='Q1', style=style, layout=slider_layout),\n",
    "               Q2=FloatSlider(min=0, max=100, step=0.5, value=95, description='Q2', style=style, layout=slider_layout),\n",
    "               Q3=FloatSlider(min=0, max=100, step=0.5, value=82.635, description='Q3', style=style, layout=slider_layout),\n",
    "               ALPHA_R=FloatSlider(min=0, max=3, step=0.01, value=0.1, description='ALPHA_R', style=style, layout=slider_layout),\n",
    "               ALPHA_P=FloatSlider(min=0, max=1.5, step=0.01, value=0.036, description='ALPHA_P', style=style, layout=slider_layout),\n",
    "               ALPHA_M=FloatSlider(min=0, max=1.5, step=0.01, value=0.8, description='ALPHA_M', style=style, layout=slider_layout),\n",
    "               ALPHA_F=FloatSlider(min=0, max=1.5, step=0.01, value=0.8, description='ALPHA_F', style=style, layout=slider_layout),\n",
    "               ALPHA_INV=FloatSlider(min=0, max=3, step=0.01, value=2, description='ALPHA_INV', style=style, layout=slider_layout),  \n",
    "               T_WAGE=FloatSlider(min=0, max=1.5, step=0.01, value=0.1, description='T_WAGE', style=style, layout=slider_layout), \n",
    "               T_EMPL=FloatSlider(min=0, max=1.5, step=0.01, value=0.1, description='T_EMPL', style=style, layout=slider_layout),  \n",
    "               A=FloatSlider(min=0, max=1.5, step=0.01, value=9.3 * 0.03, description='A', style=style, layout=slider_layout),  \n",
    "               LAMBDA=FloatSlider(min=0, max=1, step=0.01, value=1, description='LAMBDA', style=style, layout=slider_layout),  \n",
    "               Y_SAVE=FloatSlider(min=0, max=1.5, step=0.01, value=0.3, description='Y_SAVE', style=style, layout=slider_layout),  \n",
    "               T_DEP=FloatSlider(min=0, max=6, step=0.01, value=5, description='T_DEP', style=style, layout=slider_layout),  \n",
    "               G_MAX=FloatSlider(min=0, max=1.5, step=0.01, value=0.8, description='G_MAX', style=style, layout=slider_layout),  \n",
    "               L_MAX=FloatSlider(min=0, max=300, step=1, value=200, description='L_MAX', style=style, layout=slider_layout)\n",
    "        );"
   ]
  },
  {
   "cell_type": "code",
   "execution_count": null,
   "metadata": {},
   "outputs": [],
   "source": []
  }
 ],
 "metadata": {
  "kernelspec": {
   "display_name": "Python 3",
   "language": "python",
   "name": "python3"
  },
  "language_info": {
   "codemirror_mode": {
    "name": "ipython",
    "version": 3
   },
   "file_extension": ".py",
   "mimetype": "text/x-python",
   "name": "python",
   "nbconvert_exporter": "python",
   "pygments_lexer": "ipython3",
   "version": "3.8.5"
  },
  "varInspector": {
   "cols": {
    "lenName": 16,
    "lenType": 16,
    "lenVar": 40
   },
   "kernels_config": {
    "python": {
     "delete_cmd_postfix": "",
     "delete_cmd_prefix": "del ",
     "library": "var_list.py",
     "varRefreshCmd": "print(var_dic_list())"
    },
    "r": {
     "delete_cmd_postfix": ") ",
     "delete_cmd_prefix": "rm(",
     "library": "var_list.r",
     "varRefreshCmd": "cat(var_dic_list()) "
    }
   },
   "position": {
    "height": "499.85px",
    "left": "1770.23px",
    "right": "20px",
    "top": "120px",
    "width": "353.767px"
   },
   "types_to_exclude": [
    "module",
    "function",
    "builtin_function_or_method",
    "instance",
    "_Feature"
   ],
   "window_display": false
  }
 },
 "nbformat": 4,
 "nbformat_minor": 4
}
